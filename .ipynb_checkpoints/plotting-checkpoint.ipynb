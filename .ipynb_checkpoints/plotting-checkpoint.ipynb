{
 "cells": [
  {
   "cell_type": "code",
   "execution_count": 1,
   "id": "92785538-0d91-40f4-af67-570aef3a80de",
   "metadata": {},
   "outputs": [],
   "source": [
    "import matplotlib.pyplot as plt\n",
    "import numpy as np\n",
    "import glob\n",
    "import os\n",
    "%matplotlib widget"
   ]
  },
  {
   "cell_type": "code",
   "execution_count": 2,
   "id": "218d48f0-1694-437e-9075-a1ceddafcbfb",
   "metadata": {},
   "outputs": [],
   "source": [
    "path = 'output' # data folder\n",
    "data_files = sorted(glob.glob(os.path.join(path, \"*.npz\")), key=lambda x: int(x.split(\"_\")[-1].split(\".\")[0]))"
   ]
  },
  {
   "cell_type": "code",
   "execution_count": 3,
   "id": "8cb33419-d846-4276-92ae-b0bfe0e0c591",
   "metadata": {},
   "outputs": [
    {
     "data": {
      "text/plain": [
       "(249856, 2)"
      ]
     },
     "execution_count": 3,
     "metadata": {},
     "output_type": "execute_result"
    }
   ],
   "source": [
    "data = np.concatenate([np.load(d)['data'] for d in data_files], axis=0).view('int8')\n",
    "data.shape"
   ]
  },
  {
   "cell_type": "code",
   "execution_count": 6,
   "id": "cd603e73-aba0-4200-8894-34a7dd323036",
   "metadata": {},
   "outputs": [
    {
     "ename": "IndentationError",
     "evalue": "unexpected indent (1272870775.py, line 5)",
     "output_type": "error",
     "traceback": [
      "\u001b[1;36m  Cell \u001b[1;32mIn[6], line 5\u001b[1;36m\u001b[0m\n\u001b[1;33m    for i in range(3):\u001b[0m\n\u001b[1;37m    ^\u001b[0m\n\u001b[1;31mIndentationError\u001b[0m\u001b[1;31m:\u001b[0m unexpected indent\n"
     ]
    }
   ],
   "source": [
    "plt.figure(figsize=(8,4))\n",
    "plt.plot(data[:,0])\n",
    "\n",
    "# for checking specific number of files\n",
    "for i in range(3):\n",
    "    data = np.load(data_files[i])['data'].view('int8')\n",
    "    print(data.shape)\n",
    "    plt.plot(data[:,0])\n",
    "\n",
    "plt.xlim(1500,2500)\n",
    "plt.show()"
   ]
  },
  {
   "cell_type": "code",
   "execution_count": 40,
   "id": "cd811209-6aae-4114-af6a-0ca5e5dd9e71",
   "metadata": {},
   "outputs": [],
   "source": [
    "plt.close('all')"
   ]
  },
  {
   "cell_type": "code",
   "execution_count": null,
   "id": "f13e7572-2863-4800-8f67-e1aaa09aa0be",
   "metadata": {},
   "outputs": [],
   "source": []
  }
 ],
 "metadata": {
  "kernelspec": {
   "display_name": "Python 3 (ipykernel)",
   "language": "python",
   "name": "python3"
  },
  "language_info": {
   "codemirror_mode": {
    "name": "ipython",
    "version": 3
   },
   "file_extension": ".py",
   "mimetype": "text/x-python",
   "name": "python",
   "nbconvert_exporter": "python",
   "pygments_lexer": "ipython3",
   "version": "3.11.5"
  }
 },
 "nbformat": 4,
 "nbformat_minor": 5
}
